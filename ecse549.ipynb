{
  "nbformat": 4,
  "nbformat_minor": 0,
  "metadata": {
    "colab": {
      "name": "ecse549.ipynb",
      "provenance": [],
      "collapsed_sections": [],
      "include_colab_link": true
    },
    "kernelspec": {
      "name": "python3",
      "display_name": "Python 3"
    },
    "accelerator": "GPU"
  },
  "cells": [
    {
      "cell_type": "markdown",
      "metadata": {
        "id": "view-in-github",
        "colab_type": "text"
      },
      "source": [
        "<a href=\"https://colab.research.google.com/github/ebenajayi/C-Core_Design_Assistant/blob/main/ecse549.ipynb\" target=\"_parent\"><img src=\"https://colab.research.google.com/assets/colab-badge.svg\" alt=\"Open In Colab\"/></a>"
      ]
    },
    {
      "cell_type": "code",
      "metadata": {
        "id": "MFft5okntnPT"
      },
      "source": [
        "# Load your data\n",
        "import numpy as np\n",
        "import pandas as pd\n",
        "from sklearn.preprocessing import StandardScaler\n",
        "import matplotlib.pyplot as plt\n"
      ],
      "execution_count": null,
      "outputs": []
    },
    {
      "cell_type": "code",
      "metadata": {
        "id": "rmkw9ZcGFhay"
      },
      "source": [
        "#X_train = data.iloc [0:1000,8]\n",
        "#y_train = data.iloc [0:1000,0:8]\n",
        "#\n",
        "#scaler = StandardScaler()\n",
        "#scaler.fit(y_train)\n",
        "#y_train = scaler.transform(y_train)\n",
        "#print('input i.e. inductance')\n",
        "#print(X_train.head(-5))\n",
        "#print('output')\n",
        "#print(y_train)"
      ],
      "execution_count": null,
      "outputs": []
    },
    {
      "cell_type": "code",
      "metadata": {
        "id": "xCriWkzPjALg"
      },
      "source": [
        "def induct(input):\n",
        "  core_height = input[:, 0]\n",
        "  back_core_width = input[:, 1]\n",
        "  top_core_width = input[:, 2]\n",
        "  pole_width = input[:, 3]\n",
        "  core_width = input[:, 4]\n",
        "  air_gap = input[:, 5]\n",
        "  depth_core = input[:, 6]\n",
        "  current = 1\n",
        "  nturns = input[:, 7]\n",
        "  perm_core = 1e3\n",
        "  permeability_fs = 4e-7*np.pi\n",
        "  perm = 1000\n",
        "\n",
        "  mmf = current*nturns/2\n",
        "\n",
        "  area_back_core = depth_core * back_core_width\n",
        "  area_top_core = top_core_width * depth_core\n",
        "  area_pole = depth_core * pole_width\n",
        "  area_air_gap = depth_core * air_gap\n",
        "\n",
        "  reluctance_back_core = (core_height - 2*top_core_width)/(2*perm_core*permeability_fs*area_back_core)\n",
        "  reluctance_top_left_corner = top_core_width/(2*perm_core*permeability_fs*area_back_core) + back_core_width/(2*perm_core*permeability_fs*area_top_core)\n",
        "  reluctance_top_core = (core_width - back_core_width - pole_width)/(perm_core*permeability_fs*area_top_core)\n",
        "  reluctance_top_right_corner = (pole_width/(2*perm_core*permeability_fs*area_top_core)) + top_core_width/(2*perm_core*permeability_fs*area_pole)\n",
        "  reluctance_pole = (core_height - air_gap - 2*top_core_width)/(2*perm_core*permeability_fs*area_pole)\n",
        "  reluctance_air_gap = air_gap/(2*permeability_fs*area_air_gap)\n",
        "\n",
        "  reluctance_total = reluctance_back_core + reluctance_top_left_corner + reluctance_top_core + reluctance_top_right_corner + reluctance_pole + reluctance_air_gap\n",
        "\n",
        "  flux = mmf / reluctance_total\n",
        "\n",
        "  inductance = nturns*flux/current\n",
        "  return inductance"
      ],
      "execution_count": null,
      "outputs": []
    },
    {
      "cell_type": "code",
      "metadata": {
        "id": "_4sJ3BfioVjK",
        "outputId": "92a0cc01-5afc-406b-96fe-24cf269a8c3e",
        "colab": {
          "base_uri": "https://localhost:8080/",
          "height": 1000
        }
      },
      "source": [
        "# Train your model on train data\n",
        "import matplotlib.pyplot as plt\n",
        "from tensorflow.python.keras.layers import Dense, Dropout, Lambda\n",
        "from tensorflow.python.keras import Sequential, Model\n",
        "\n",
        "\n",
        "model = Sequential()\n",
        "model.add(Dense(1024, activation='linear', input_dim=1))\n",
        "model.add(Dense(1024, activation='tanh'))\n",
        "model.add(Dense(1024, activation='tanh'))\n",
        "model.add(Dense(8, name=\"last\", activation='softplus'))\n",
        "model.add(Lambda(induct))\n",
        "\n",
        "\n",
        "model.compile(loss='mean_absolute_percentage_error', optimizer='adam', metrics=['mean_absolute_percentage_error'])\n",
        "\n",
        "X_train = 1*np.random.rand(100000)+1e-6 # Generate random inductances\n",
        "\n",
        "model.fit(X_train, X_train, epochs=30, batch_size= 512)"
      ],
      "execution_count": null,
      "outputs": [
        {
          "output_type": "stream",
          "text": [
            "Epoch 1/30\n",
            "196/196 [==============================] - 1s 4ms/step - loss: 81.1047 - mean_absolute_percentage_error: 81.1047\n",
            "Epoch 2/30\n",
            "196/196 [==============================] - 1s 4ms/step - loss: 16.5426 - mean_absolute_percentage_error: 16.5426\n",
            "Epoch 3/30\n",
            "196/196 [==============================] - 1s 4ms/step - loss: 15.2980 - mean_absolute_percentage_error: 15.2980\n",
            "Epoch 4/30\n",
            "196/196 [==============================] - 1s 4ms/step - loss: 12.8500 - mean_absolute_percentage_error: 12.8500\n",
            "Epoch 5/30\n",
            "196/196 [==============================] - 1s 4ms/step - loss: 9.8424 - mean_absolute_percentage_error: 9.8424\n",
            "Epoch 6/30\n",
            "196/196 [==============================] - 1s 4ms/step - loss: 7.1419 - mean_absolute_percentage_error: 7.1419\n",
            "Epoch 7/30\n",
            "196/196 [==============================] - 1s 4ms/step - loss: 3.8220 - mean_absolute_percentage_error: 3.8220\n",
            "Epoch 8/30\n",
            "196/196 [==============================] - 1s 4ms/step - loss: 4.7791 - mean_absolute_percentage_error: 4.7791\n",
            "Epoch 9/30\n",
            "196/196 [==============================] - 1s 4ms/step - loss: 4.2904 - mean_absolute_percentage_error: 4.2904\n",
            "Epoch 10/30\n",
            "196/196 [==============================] - 1s 4ms/step - loss: 4.2312 - mean_absolute_percentage_error: 4.2312\n",
            "Epoch 11/30\n",
            "196/196 [==============================] - 1s 4ms/step - loss: 6.0554 - mean_absolute_percentage_error: 6.0554\n",
            "Epoch 12/30\n",
            "196/196 [==============================] - 1s 4ms/step - loss: 3.5950 - mean_absolute_percentage_error: 3.5950\n",
            "Epoch 13/30\n",
            "196/196 [==============================] - 1s 4ms/step - loss: 3.0842 - mean_absolute_percentage_error: 3.0842\n",
            "Epoch 14/30\n",
            "196/196 [==============================] - 1s 4ms/step - loss: 2.6582 - mean_absolute_percentage_error: 2.6582\n",
            "Epoch 15/30\n",
            "196/196 [==============================] - 1s 4ms/step - loss: 4.8102 - mean_absolute_percentage_error: 4.8102\n",
            "Epoch 16/30\n",
            "196/196 [==============================] - 1s 4ms/step - loss: 4.8201 - mean_absolute_percentage_error: 4.8201\n",
            "Epoch 17/30\n",
            "196/196 [==============================] - 1s 4ms/step - loss: 3.4128 - mean_absolute_percentage_error: 3.4128\n",
            "Epoch 18/30\n",
            "196/196 [==============================] - 1s 4ms/step - loss: 3.8016 - mean_absolute_percentage_error: 3.8016\n",
            "Epoch 19/30\n",
            "196/196 [==============================] - 1s 4ms/step - loss: 2.9236 - mean_absolute_percentage_error: 2.9236\n",
            "Epoch 20/30\n",
            "196/196 [==============================] - 1s 4ms/step - loss: 2.8396 - mean_absolute_percentage_error: 2.8396\n",
            "Epoch 21/30\n",
            "196/196 [==============================] - 1s 4ms/step - loss: 4.5065 - mean_absolute_percentage_error: 4.5065\n",
            "Epoch 22/30\n",
            "196/196 [==============================] - 1s 4ms/step - loss: 5.6349 - mean_absolute_percentage_error: 5.6349\n",
            "Epoch 23/30\n",
            "196/196 [==============================] - 1s 4ms/step - loss: 3.1686 - mean_absolute_percentage_error: 3.1686\n",
            "Epoch 24/30\n",
            "196/196 [==============================] - 1s 4ms/step - loss: 3.1571 - mean_absolute_percentage_error: 3.1571\n",
            "Epoch 25/30\n",
            "196/196 [==============================] - 1s 4ms/step - loss: 3.5649 - mean_absolute_percentage_error: 3.5649\n",
            "Epoch 26/30\n",
            "196/196 [==============================] - 1s 4ms/step - loss: 3.7679 - mean_absolute_percentage_error: 3.7679\n",
            "Epoch 27/30\n",
            "196/196 [==============================] - 1s 4ms/step - loss: 2.5252 - mean_absolute_percentage_error: 2.5252\n",
            "Epoch 28/30\n",
            "196/196 [==============================] - 1s 4ms/step - loss: 2.6080 - mean_absolute_percentage_error: 2.6080\n",
            "Epoch 29/30\n",
            "196/196 [==============================] - 1s 4ms/step - loss: 3.0615 - mean_absolute_percentage_error: 3.0615\n",
            "Epoch 30/30\n",
            "196/196 [==============================] - 1s 4ms/step - loss: 3.3716 - mean_absolute_percentage_error: 3.3716\n"
          ],
          "name": "stdout"
        },
        {
          "output_type": "execute_result",
          "data": {
            "text/plain": [
              "<tensorflow.python.keras.callbacks.History at 0x7fa70ef3f2b0>"
            ]
          },
          "metadata": {
            "tags": []
          },
          "execution_count": 71
        }
      ]
    },
    {
      "cell_type": "code",
      "metadata": {
        "id": "LjPNZoCm6h_B",
        "outputId": "bcda08a9-f5f4-46a3-87f9-6139316c6c81",
        "colab": {
          "base_uri": "https://localhost:8080/",
          "height": 303
        }
      },
      "source": [
        "test_induct = np.random.rand(1000)+1e-6 # Generate random inductances\n",
        "#test_induct = X_train\n",
        "inducts = model.predict(test_induct)\n",
        "\n",
        "\n",
        "#circuits = scaler.inverse_transform(circuits)\n",
        "#inducts = [induct(circuit) for circuit in circuits]\n",
        "err = np.abs((test_induct - inducts) / test_induct) * 100\n",
        "print(f\"Average error : {np.average(err)}%, Median error : {np.median(err)}%\")\n",
        "plt.scatter(test_induct, err)"
      ],
      "execution_count": null,
      "outputs": [
        {
          "output_type": "stream",
          "text": [
            "Average error : 1.660501374789255%, Median error : 0.674551180220486%\n"
          ],
          "name": "stdout"
        },
        {
          "output_type": "execute_result",
          "data": {
            "text/plain": [
              "<matplotlib.collections.PathCollection at 0x7fa7102eecc0>"
            ]
          },
          "metadata": {
            "tags": []
          },
          "execution_count": 79
        },
        {
          "output_type": "display_data",
          "data": {
            "image/png": "[encoded data removed]",
            "text/plain": [
              "<Figure size 432x288 with 1 Axes>"
            ]
          },
          "metadata": {
            "tags": [],
            "needs_background": "light"
          }
        }
      ]
    },
    {
      "cell_type": "code",
      "metadata": {
        "id": "rZQcFKGhbK_H",
        "outputId": "b772bc04-53a8-4ae8-ba7b-60ac34965ed5",
        "colab": {
          "base_uri": "https://localhost:8080/",
          "height": 199
        }
      },
      "source": [
        "intermediate_layer_model = Model(inputs=model.input, outputs=model.get_layer(\"last\").output)\n",
        "\n",
        "test_induct = 0.3 #@param {type:\"number\"}\n",
        "\n",
        "circuit = intermediate_layer_model.predict([test_induct])[0]\n",
        "\n",
        "print(\"Generated circuit :\")\n",
        "print(f\"\\t Core height : {circuit[0]:.2f} m\")\n",
        "print(f\"\\t Back core width : {circuit[1]:.2f} m\")\n",
        "print(f\"\\t Top core width : {circuit[2]:.2f} m\")\n",
        "print(f\"\\t Pole width : {circuit[3]:.2f} m\")\n",
        "print(f\"\\t Core width: {circuit[4]:.2f} m\")\n",
        "print(f\"\\t Air gap length : {circuit[5]:.2f} m\")\n",
        "print(f\"\\t Depth of the core : {circuit[6]:.2f} m\")\n",
        "print(f\"\\t Number of turns : {circuit[7]:.2f}\")\n",
        "print(f\"\\t Actual inductance of the circuit: {induct(circuit[np.newaxis,:])[0]:.4f} H\")"
      ],
      "execution_count": null,
      "outputs": [
        {
          "output_type": "stream",
          "text": [
            "Generated circuit :\n",
            "\t Core height : 5.35 m\n",
            "\t Back core width : 2.66 m\n",
            "\t Top core width : 16.20 m\n",
            "\t Pole width : 8.56 m\n",
            "\t Core width: 1.08 m\n",
            "\t Air gap length : 0.08 m\n",
            "\t Depth of the core : 55.57 m\n",
            "\t Number of turns : 65.16\n",
            "\t Actual inductance of the circuit: 0.2983 H\n"
          ],
          "name": "stdout"
        }
      ]
    },
    {
      "cell_type": "code",
      "metadata": {
        "id": "d81PK0nkm-xb"
      },
      "source": [
        ""
      ],
      "execution_count": null,
      "outputs": []
    }
  ]
}